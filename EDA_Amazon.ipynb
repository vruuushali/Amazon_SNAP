{
 "cells": [
  {
   "cell_type": "code",
   "execution_count": 1,
   "metadata": {},
   "outputs": [],
   "source": [
    "#import necessary modules\n",
    "from pyspark import *\n",
    "from pyspark.sql import *\n",
    "from pyspark.sql.functions import *\n",
    "from pyspark.sql.types import *\n",
    "import pyspark.sql.functions as F\n",
    "from Metadataload import metadataload\n",
    "from revdataload import reviewsdataload\n",
    "metadf= metadataload()\n",
    "reviewdf= reviewsdataload()\n"
   ]
  },
  {
   "cell_type": "code",
   "execution_count": 3,
   "metadata": {},
   "outputs": [],
   "source": [
    "from pyspark.sql.functions import count\n",
    "\n",
    "def group_by_count(metadf, group_col, count_col):\n",
    "    \"\"\"\n",
    "    Groups by a specified column and counts the number of occurrences of another column\n",
    "    :param df: Spark DataFrame\n",
    "    :param group_col: Column name to group by\n",
    "    :param count_col: Column name to count\n",
    "    :return: Grouped Spark DataFrame\n",
    "    \"\"\"\n",
    "    grouped_df = metadf.groupBy(group_col).agg(count(count_col).alias('count'))\n",
    "    return grouped_df"
   ]
  },
  {
   "cell_type": "code",
   "execution_count": 4,
   "metadata": {},
   "outputs": [
    {
     "name": "stdout",
     "output_type": "stream",
     "text": [
      "+------+-----+\n",
      "|groups|count|\n",
      "+------+-----+\n",
      "|      |   25|\n",
      "|  Book| 1048|\n",
      "| Music|  284|\n",
      "| Video|   75|\n",
      "|   DVD|   47|\n",
      "|   Toy|    1|\n",
      "+------+-----+\n",
      "\n"
     ]
    }
   ],
   "source": [
    "#Group wise count including null count\n",
    "grouped_df = group_by_count(metadf, 'groups', 'id')\n",
    "grouped_df.show()"
   ]
  },
  {
   "cell_type": "code",
   "execution_count": 8,
   "metadata": {},
   "outputs": [
    {
     "name": "stdout",
     "output_type": "stream",
     "text": [
      "[('salesranks', 'double', 1466, (2.2666666666666666, 2), 1467, (97.73333333333333, 2), 1466, [(None, 34), (2895088.0, 1), (654748.0, 1), (48408.0, 1), (13524.0, 1), (110723.0, 1), (505266.0, 1), (1091842.0, 1), (161879.0, 1), (251469.0, 1)], 1500, 142, 486952.3894952251, 562817.0939726039, 19.0, 89264.0, 282822.0, 651510.0, 3459764.0), ('total_reviews', 'int', 1467, (2.1999999999999997, 2), 110, (97.8, 2), 109, [(0, 379), (1, 214), (2, 161), (3, 91), (4, 84), (5, 62), (7, 46), (8, 33), (None, 33), (6, 32)], 1500, 145, 17.552828902522155, 111.75350071507252, 0, 0.0, 2.0, 8.0, 3049), ('avg_rating', 'float', 1467, (2.1999999999999997, 2), 11, (97.8, 2), 10, [(0.0, 379), (5.0, 370), (4.5, 291), (4.0, 227), (3.5, 109), (3.0, 58), (None, 33), (2.5, 15), (2.0, 8), (1.0, 7)], 1500, 151, 3.1956373551465576, 1.9874009845298772, 0.0, 0.0, 4.0, 4.5, 5.0)]\n"
     ]
    }
   ],
   "source": [
    "from pyspark.sql.functions import count, round, mean, stddev, min, max\n",
    "\n",
    "# Function to calculate metadata for a column\n",
    "def get_metadata(metadf, col_name):\n",
    "    # Count of non-null values\n",
    "    # count_ = metadf.select(count(col_name)).first()[0]\n",
    "    count_ = metadf.filter(col(col_name).isNotNull()).count()\n",
    "    # Count of null values\n",
    "    null_count = metadf.filter(metadf[col_name].isNull()).count()\n",
    "    # Count of distinct values\n",
    "    distinct_count = metadf.select(col_name).distinct().count()\n",
    "    # Fill rate percentage\n",
    "    if null_count == 0:\n",
    "        fill_rate = 100.0\n",
    "    else:\n",
    "        fill_rate = ((count_ / (count_ + null_count)) * 100, 2)\n",
    "    # Count of distinct values after removing null values\n",
    "    distinct_count_ = metadf.select(col_name).na.drop().distinct().count()\n",
    "    # Most frequent values and their counts\n",
    "    most_freq_values = metadf.groupBy(col_name).count().orderBy(\"count\", ascending=False).limit(10).collect()\n",
    "    most_freq_values_top_10 = [(row[col_name], row['count']) for row in most_freq_values]\n",
    "    # Dataset size\n",
    "    dataset_size = metadf.count()\n",
    "    # Sample size and percentage\n",
    "    sample_size = metadf.sample(False, 0.1).count()\n",
    "    # sample_perc = round((sample_size / dataset_size) * 100, 2)\n",
    "    # sample_perc = ((lit(sample_size) / dataset_size) * 100, 2).cast(DoubleType())\n",
    "\n",
    "    # Mean, standard deviation, min, 25%, 50%, 75%, and max\n",
    "    mean_ = metadf.select(mean(col_name)).first()[0]\n",
    "    stddev_ = metadf.select(stddev(col_name)).first()[0]\n",
    "    min_ = metadf.select(min(col_name)).first()[0]\n",
    "    q1 = metadf.approxQuantile(col_name, [0.25], 0.01)[0]\n",
    "    q2 = metadf.approxQuantile(col_name, [0.50], 0.01)[0]\n",
    "    q3 = metadf.approxQuantile(col_name, [0.75], 0.01)[0]\n",
    "    max_ = metadf.select(max(col_name)).first()[0]\n",
    "    \n",
    "    # Column sparsity\n",
    "    col_sparsity = ((null_count / dataset_size) * 100, 2)\n",
    "    \n",
    "    # Create metadata tuple for the column\n",
    "    metadata = (col_name,\n",
    "                metadf.schema[col_name].dataType.simpleString(),\n",
    "                count_,\n",
    "                col_sparsity,\n",
    "                distinct_count,\n",
    "                fill_rate,\n",
    "                distinct_count_,\n",
    "                most_freq_values_top_10,\n",
    "                dataset_size,\n",
    "                sample_size,\n",
    "                mean_,\n",
    "                stddev_,\n",
    "                min_,\n",
    "                q1,\n",
    "                q2,\n",
    "                q3,\n",
    "                max_)\n",
    "    return metadata\n",
    "\n",
    "# List of columns to get metadata for\n",
    "columns = ['salesranks', 'total_reviews', 'avg_rating']\n",
    "\n",
    "# Create a list of metadata tuples for all columns\n",
    "metadata_list = [get_metadata(metadf, col) for col in columns]\n",
    "print(metadata_list)"
   ]
  },
  {
   "cell_type": "code",
   "execution_count": null,
   "metadata": {},
   "outputs": [
    {
     "name": "stdout",
     "output_type": "stream",
     "text": [
      "        col_name data_type count  col_sparsity distinct_count  fill_rate  \\\n",
      "0     salesranks    double  1466      2.266667           1467  97.733333   \n",
      "1  total_reviews       int  1467      2.200000            110  97.800000   \n",
      "2     avg_rating     float  1467      2.200000             11  97.800000   \n",
      "\n",
      "  distinct_count_                            most_freq_values_top_10  \\\n",
      "0            1466  [(None, 34), (2895088.0, 1), (654748.0, 1), (4...   \n",
      "1             109  [(0, 379), (1, 214), (2, 161), (3, 91), (4, 84...   \n",
      "2              10  [(0.0, 379), (5.0, 370), (4.5, 291), (4.0, 227...   \n",
      "\n",
      "  dataset_size sample_size           mean         stddev   min       q1  \\\n",
      "0         1500         144  486952.389495  562817.093973  19.0  88323.0   \n",
      "1         1500         163      17.552829     111.753501   0.0      0.0   \n",
      "2         1500         169       3.195637       1.987401   0.0      0.0   \n",
      "\n",
      "         q2        q3        max  \n",
      "0  282822.0  651510.0  3459764.0  \n",
      "1       2.0       8.0     3049.0  \n",
      "2       4.0       4.5        5.0  \n"
     ]
    },
    {
     "name": "stderr",
     "output_type": "stream",
     "text": [
      "C:\\Users\\vrushalideshmukh\\AppData\\Local\\Temp\\ipykernel_3016\\382324696.py:32: FutureWarning: The frame.append method is deprecated and will be removed from pandas in a future version. Use pandas.concat instead.\n",
      "  df = df.append(row, ignore_index=True)\n",
      "C:\\Users\\vrushalideshmukh\\AppData\\Local\\Temp\\ipykernel_3016\\382324696.py:32: FutureWarning: The frame.append method is deprecated and will be removed from pandas in a future version. Use pandas.concat instead.\n",
      "  df = df.append(row, ignore_index=True)\n",
      "C:\\Users\\vrushalideshmukh\\AppData\\Local\\Temp\\ipykernel_3016\\382324696.py:32: FutureWarning: The frame.append method is deprecated and will be removed from pandas in a future version. Use pandas.concat instead.\n",
      "  df = df.append(row, ignore_index=True)\n"
     ]
    }
   ],
   "source": [
    "import pandas as pd\n",
    "\n",
    "# Create a list of column names\n",
    "columns = ['col_name', 'data_type', 'count', 'col_sparsity', 'distinct_count', 'fill_rate', \n",
    "           'distinct_count_', 'most_freq_values_top_10', 'dataset_size', 'sample_size', 'mean', \n",
    "           'stddev', 'min', 'q1', 'q2', 'q3', 'max']\n",
    "\n",
    "# Create an empty DataFrame with the specified columns\n",
    "df = pd.DataFrame(columns=columns)\n",
    "\n",
    "# Loop over the tuple and append each row to the DataFrame\n",
    "for tup in metadata_list:\n",
    "    row = {\n",
    "        'col_name': tup[0],\n",
    "        'data_type': tup[1],\n",
    "        'count': tup[2],\n",
    "        'col_sparsity': tup[3][0],\n",
    "        'distinct_count': tup[4],\n",
    "        'fill_rate': tup[5][0],\n",
    "        'distinct_count_': tup[6],\n",
    "        'most_freq_values_top_10': tup[7],\n",
    "        'dataset_size': tup[8],\n",
    "        'sample_size': tup[9],\n",
    "        'mean': tup[10],\n",
    "        'stddev': tup[11],\n",
    "        'min': tup[12],\n",
    "        'q1': tup[13],\n",
    "        'q2': tup[14],\n",
    "        'q3': tup[15],\n",
    "        'max': tup[16]\n",
    "    }\n",
    "    df = df.append(row, ignore_index=True)\n",
    "\n",
    "# Print the resulting DataFrame\n",
    "print(df)\n"
   ]
  },
  {
   "cell_type": "code",
   "execution_count": 8,
   "metadata": {},
   "outputs": [
    {
     "name": "stdout",
     "output_type": "stream",
     "text": [
      "+----+----------+----------------+------+----------+-------------+----------+\n",
      "|ID  |asins     |titles          |groups|salesranks|total_reviews|avg_rating|\n",
      "+----+----------+----------------+------+----------+-------------+----------+\n",
      "|252 |B0000262WI|The Köln Concert|Music |581.0     |82           |4.5       |\n",
      "|486 |B0000296J3|Stardust        |Music |1060.0    |46           |4.5       |\n",
      "|1083|B00005N8T1|New Favorite    |Music |1183.0    |137          |4.5       |\n",
      "+----+----------+----------------+------+----------+-------------+----------+\n",
      "only showing top 3 rows\n",
      "\n"
     ]
    }
   ],
   "source": [
    "#Arrange the dataframe newdf in ascending order of salesrank for a particular group based on the input given by user\n",
    "def sort_by_salesranks(metadf, group_col):\n",
    "    \"\"\"\n",
    "    Sorts a Spark DataFrame in ascending order of salesrank for a particular group based on user input\n",
    "    :param newdf: Spark DataFrame\n",
    "    :param group_col: Column name to group by\n",
    "    :return: Sorted Spark DataFrame\n",
    "    \"\"\"\n",
    "    # Get user input for the group\n",
    "    groups = input(\"Enter group name: \")\n",
    "    \n",
    "    # Filter the DataFrame to include only the specified group\n",
    "    filtered_df = metadf.filter(metadf[group_col] == groups)\n",
    "    \n",
    "    # Sort the DataFrame in ascending order of salesrank\n",
    "    sorted_df = filtered_df.sort('salesranks')\n",
    "    \n",
    "    return sorted_df\n",
    "sorted_df = sort_by_salesranks(metadf, 'groups')\n",
    "sorted_df=sorted_df.select(\"ID\",\"asins\",\"titles\",\"groups\",\"salesranks\",\"total_reviews\", \"avg_rating\")\n",
    "sorted_df.show(3, truncate=False)"
   ]
  },
  {
   "cell_type": "code",
   "execution_count": 11,
   "metadata": {},
   "outputs": [],
   "source": [
    "from pyspark.sql.functions import corr\n",
    "\n",
    "def correlation(newdf):\n",
    "    \"\"\"\n",
    "    Finds the correlation between total_reviews and avg_rating columns of a Spark DataFrame\n",
    "    :param df: Spark DataFrame\n",
    "    :return: Correlation coefficient\n",
    "    \"\"\"\n",
    "    # Calculate the correlation coefficient between total_reviews and avg_rating\n",
    "    corr_coef = newdf.select(corr('salesranks', 'avg_rating')).collect()[0][0]\n",
    "    return corr_coef"
   ]
  },
  {
   "cell_type": "code",
   "execution_count": 12,
   "metadata": {},
   "outputs": [
    {
     "name": "stdout",
     "output_type": "stream",
     "text": [
      "Correlation coefficient between (salesranks and average rating) and (total reviews and average rating) is: (-0.42522253732422144, 0.0672113913504594)\n"
     ]
    }
   ],
   "source": [
    "from pyspark.sql.functions import corr\n",
    "\n",
    "def correlation(newdf):\n",
    "    \"\"\"\n",
    "    # Finds the correlation between total_reviews and avg_rating columns of a Spark DataFrame\n",
    "    # :param df: Spark DataFrame\n",
    "    # :return: Correlation coefficient\n",
    "    # \"\"\"\n",
    "    # corr_coef = newdf.select(((corr('salesranks', 'avg_rating')).collect()[0][0]), ((corr('total_reviews', 'avg_rating')).collect()[0][0]))  \n",
    "\n",
    "    corr_coef = newdf.select(corr('salesranks', 'avg_rating').alias('salesranks_avg_rating_corr'), corr('total_reviews', 'avg_rating').alias('total_reviews_avg_rating_corr')).collect()\n",
    "    salesranks_avg_rating_corr = corr_coef[0][0]\n",
    "    total_reviews_avg_rating_corr = corr_coef[0][1]\n",
    "    return salesranks_avg_rating_corr, total_reviews_avg_rating_corr\n",
    "\n",
    "corr_coef = correlation(metadf)\n",
    "print(f\"Correlation coefficient between (salesranks and average rating) and (total reviews and average rating) is: { corr_coef }\")"
   ]
  },
  {
   "cell_type": "code",
   "execution_count": 13,
   "metadata": {},
   "outputs": [
    {
     "name": "stdout",
     "output_type": "stream",
     "text": [
      "Null rate of date: 0.00%\n",
      "Null rate of customer: 0.00%\n",
      "Null rate of rating: 0.00%\n",
      "Null rate of votes: 0.00%\n",
      "Null rate of helpful: 0.00%\n",
      "Null rate of id: 0.00%\n"
     ]
    }
   ],
   "source": [
    "from pyspark.sql.functions import col, count, isnan\n",
    "\n",
    "# Calculate the total number of rows in the DataFrame\n",
    "total_rows = reviewdf.count()\n",
    "\n",
    "# Iterate over each column and calculate the null rate\n",
    "null_rates = []\n",
    "for c in reviewdf.columns:\n",
    "    null_count = reviewdf.filter(col(c).isNull() | isnan(col(c))).count()\n",
    "    null_rate = null_count / total_rows\n",
    "    null_rates.append((c, null_rate))\n",
    "\n",
    "# Print the null rates for each column\n",
    "for col_name, null_rate in null_rates:\n",
    "    print(f\"Null rate of {col_name}: {null_rate * 100:.2f}%\")"
   ]
  },
  {
   "cell_type": "code",
   "execution_count": 14,
   "metadata": {},
   "outputs": [
    {
     "name": "stdout",
     "output_type": "stream",
     "text": [
      "+----------+--------------+------+---+------------------+\n",
      "|date      |customer      |rating|id |helpful_percentage|\n",
      "+----------+--------------+------+---+------------------+\n",
      "|2004-4-21 |A2V9UBVMQFDV20|5     |12 |100.0             |\n",
      "|2004-6-6  |A3NXQLHXJZO5FB|5     |12 |100.0             |\n",
      "|2004-7-5  |A1RNV50D6DNE42|1     |12 |42.86             |\n",
      "|2004-7-8  |A3FVNS48MY8L32|5     |12 |100.0             |\n",
      "|2004-7-19 |A1WC6GEAVET9K8|5     |12 |83.33             |\n",
      "|2004-8-22 |A1PH1HGK2HFQ9G|5     |12 |80.0              |\n",
      "|2004-10-9 |A1DOK8OJ386KDS|5     |12 |90.91             |\n",
      "|2004-12-28|A1E4FW0F5R7TOY|4     |12 |50.0              |\n",
      "|2005-3-8  |A14OJS0VWMOSWO|5     |12 |57.14             |\n",
      "|2005-3-28 |A3UDEP0MTKLLL2|5     |12 |80.0              |\n",
      "|2005-5-28 |A19UTUEBWKIZFT|1     |12 |25.0              |\n",
      "|2005-6-19 |A35X1EMOVF90JG|5     |12 |100.0             |\n",
      "|2000-4-11 |A2A1TNBFJNRADP|5     |11 |91.3              |\n",
      "|2002-5-13 |A2IGOA66Y6O8TQ|5     |15 |66.67             |\n",
      "|2002-6-17 |A2OIN4AUH84KNE|5     |15 |50.0              |\n",
      "|2003-1-2  |A2HN382JNT1CIU|1     |15 |16.67             |\n",
      "|2003-6-7  |A2FDJ79LDU4O18|4     |15 |100.0             |\n",
      "|2003-6-27 |A39QMV9ZKRJXO5|4     |15 |100.0             |\n",
      "|2004-2-17 |AUUVMSTQ1TXDI |1     |15 |0.0               |\n",
      "|2004-2-24 |A2C5K0QTLL9UAT|5     |15 |100.0             |\n",
      "+----------+--------------+------+---+------------------+\n",
      "only showing top 20 rows\n",
      "\n"
     ]
    }
   ],
   "source": [
    "#to find misleading reviews\n",
    "reviewdf = reviewdf.withColumn('helpful_percent', col('helpful') * 100 / col('votes'))\n",
    "reviewdf=reviewdf.drop(\"helpful\")\n",
    "reviewdf=reviewdf.drop(\"votes\")\n",
    "# round off the decimal values in the \"value\" column to 2 decimal places\n",
    "reviewdf = reviewdf.withColumn(\"helpful_percentage\", F.round(F.col(\"helpful_percent\"), 2))\n",
    "# show the result\n",
    "reviewdf=reviewdf.drop(\"helpful_percent\")\n",
    "reviewdf.show(truncate=False)"
   ]
  },
  {
   "cell_type": "code",
   "execution_count": 15,
   "metadata": {},
   "outputs": [
    {
     "name": "stdout",
     "output_type": "stream",
     "text": [
      "The misleading percentage is 28.01%\n"
     ]
    }
   ],
   "source": [
    "# Calculate the average of the helpful_percentage column\n",
    "avg_helpful_percentage = reviewdf.select(avg(\"helpful_percentage\")).collect()[0][0]\n",
    "\n",
    "# Calculate the misleading percentage\n",
    "misleading_percentage = 100 - avg_helpful_percentage\n",
    "\n",
    "# Print the result\n",
    "print(f\"The misleading percentage is {misleading_percentage:.2f}%\")"
   ]
  },
  {
   "cell_type": "code",
   "execution_count": 16,
   "metadata": {},
   "outputs": [],
   "source": [
    "import matplotlib.pyplot as plt\n",
    "import pandas as pd"
   ]
  },
  {
   "cell_type": "code",
   "execution_count": 17,
   "metadata": {},
   "outputs": [
    {
     "data": {
      "text/plain": [
       "DataFrame[customer: string, rating: string, id: int, helpful_percentage: double, updated_on: date]"
      ]
     },
     "execution_count": 17,
     "metadata": {},
     "output_type": "execute_result"
    }
   ],
   "source": [
    "from pyspark.sql.functions import to_date\n",
    "from pyspark.sql.types import DateType\n",
    "reviewdf = reviewdf.withColumn('updated_on', to_date(reviewdf['date']).cast(DateType()))\n",
    "reviewdf.drop(\"date\")"
   ]
  },
  {
   "cell_type": "code",
   "execution_count": 18,
   "metadata": {},
   "outputs": [
    {
     "name": "stdout",
     "output_type": "stream",
     "text": [
      "The most frequent group in month 01 is DVD.\n"
     ]
    }
   ],
   "source": [
    "from pyspark.sql.functions import year, month, col, desc\n",
    "\n",
    "# Prompt the user to input a month\n",
    "input_month = input('Enter a month (e.g. \"01\" for January): ')\n",
    "\n",
    "# Filter the dataframe to include only rows for the given month\n",
    "month_df = reviewdf.filter(month(col(\"updated_on\")) == input_month)\n",
    "\n",
    "# Group by the \"groups\" column and count the occurrences\n",
    "group_counts = metadf.join(month_df, on='id').groupBy('groups').count()\n",
    "\n",
    "# Order the groups by count in descending order and select the most frequent one\n",
    "most_frequent_group = group_counts.orderBy(desc('count')).select('groups').first()[0]\n",
    "\n",
    "# Print the resulting most frequent group for the given month\n",
    "print(f'The most frequent group in month {input_month} is {most_frequent_group}.')"
   ]
  },
  {
   "cell_type": "code",
   "execution_count": 22,
   "metadata": {},
   "outputs": [
    {
     "name": "stdout",
     "output_type": "stream",
     "text": [
      "The most frequent group in year 2005 is DVD.\n"
     ]
    }
   ],
   "source": [
    "input_year = input('Enter a year (e.g. \"2023\" for this year): ')\n",
    "\n",
    "# Filter the dataframe to include only rows for the given month\n",
    "year_df = reviewdf.filter(year(col(\"updated_on\")) == input_year)\n",
    "\n",
    "# Group by the \"groups\" column and count the occurrences\n",
    "group_counts = metadf.join(year_df, on='id').groupBy('groups').count()\n",
    "\n",
    "# Order the groups by count in descending order and select the most frequent one\n",
    "most_frequent_group = group_counts.orderBy(desc('count')).select('groups').first()[0]\n",
    "\n",
    "# Print the resulting most frequent group for the given month\n",
    "print(f'The most frequent group in year {input_year} is {most_frequent_group}.')\n"
   ]
  },
  {
   "cell_type": "code",
   "execution_count": 23,
   "metadata": {},
   "outputs": [
    {
     "name": "stdout",
     "output_type": "stream",
     "text": [
      "The most frequent group BTD is: Book\n"
     ]
    }
   ],
   "source": [
    "from pyspark.sql.functions import col, desc\n",
    "most_frequent_group = metadf.groupBy('groups').count().orderBy(desc('count')).first()['groups']\n",
    "print(\"The most frequent group BTD is: {}\".format(most_frequent_group))"
   ]
  },
  {
   "cell_type": "code",
   "execution_count": 24,
   "metadata": {},
   "outputs": [
    {
     "data": {
      "text/plain": [
       "Text(4.444444444444452, 0.5, 'Frequency of groups')"
      ]
     },
     "execution_count": 24,
     "metadata": {},
     "output_type": "execute_result"
    },
    {
     "data": {
      "image/png": "[encoded data removed]",
      "text/plain": [
       "<Figure size 640x480 with 1 Axes>"
      ]
     },
     "metadata": {},
     "output_type": "display_data"
    }
   ],
   "source": [
    "pandas_df = metadf.select('groups').toPandas()\n",
    "plt.hist(pandas_df['groups'], color='blue', edgecolor='black', bins=int(30/1))\n",
    "# plt.hist(newdf['avg_rating'], color='blue', edgecolor='black', bins=int(45/1))\n",
    "ax.set_ylabel('Frequency of groups')\n"
   ]
  },
  {
   "cell_type": "code",
   "execution_count": 21,
   "metadata": {},
   "outputs": [
    {
     "data": {
      "text/plain": [
       "Text(0.5, 0, 'Total Frequency')"
      ]
     },
     "execution_count": 21,
     "metadata": {},
     "output_type": "execute_result"
    },
    {
     "data": {
      "image/png": "[encoded data removed]",
      "text/plain": [
       "<Figure size 640x480 with 1 Axes>"
      ]
     },
     "metadata": {},
     "output_type": "display_data"
    }
   ],
   "source": [
    "fig, ax = plt.subplots()\n",
    "ax.plot(pandas_df['groups'])\n",
    "ax.set_title('Boxplot of Group Count')\n",
    "ax.set_xlabel('Total Frequency')"
   ]
  },
  {
   "cell_type": "code",
   "execution_count": null,
   "metadata": {},
   "outputs": [],
   "source": []
  }
 ],
 "metadata": {
  "kernelspec": {
   "display_name": "Python 3",
   "language": "python",
   "name": "python3"
  },
  "language_info": {
   "codemirror_mode": {
    "name": "ipython",
    "version": 3
   },
   "file_extension": ".py",
   "mimetype": "text/x-python",
   "name": "python",
   "nbconvert_exporter": "python",
   "pygments_lexer": "ipython3",
   "version": "3.9.6"
  },
  "orig_nbformat": 4
 },
 "nbformat": 4,
 "nbformat_minor": 2
}
